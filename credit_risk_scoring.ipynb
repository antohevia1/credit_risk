{
 "cells": [
  {
   "cell_type": "code",
   "execution_count": 162,
   "metadata": {},
   "outputs": [],
   "source": [
    "import os\n",
    "import pandas as pd\n",
    "import matplotlib.pyplot as plt\n",
    "%matplotlib inline\n",
    "pd.set_option('display.max_columns', 40)"
   ]
  },
  {
   "cell_type": "code",
   "execution_count": 3,
   "metadata": {},
   "outputs": [
    {
     "name": "stderr",
     "output_type": "stream",
     "text": [
      "/usr/local/lib/python3.5/dist-packages/sklearn/ensemble/weight_boosting.py:29: DeprecationWarning: numpy.core.umath_tests is an internal NumPy module and should not be imported. It will be removed in a future NumPy release.\n",
      "  from numpy.core.umath_tests import inner1d\n"
     ]
    }
   ],
   "source": [
    "from sklearn.tree import DecisionTreeClassifier\n",
    "from sklearn.ensemble import RandomForestClassifier\n",
    "from sklearn.metrics import roc_auc_score\n",
    "import numpy as np"
   ]
  },
  {
   "cell_type": "markdown",
   "metadata": {},
   "source": [
    "### 1. Importing Data"
   ]
  },
  {
   "cell_type": "code",
   "execution_count": 196,
   "metadata": {},
   "outputs": [],
   "source": [
    "df = spark.read.csv('/training/german_credit_data_labels.csv', header=True)"
   ]
  },
  {
   "cell_type": "markdown",
   "metadata": {},
   "source": [
    "###  2. Exploratory Analysis"
   ]
  },
  {
   "cell_type": "code",
   "execution_count": 5,
   "metadata": {},
   "outputs": [
    {
     "name": "stdout",
     "output_type": "stream",
     "text": [
      "root\n",
      " |-- _c0: string (nullable = true)\n",
      " |-- Age: string (nullable = true)\n",
      " |-- Sex: string (nullable = true)\n",
      " |-- Job: string (nullable = true)\n",
      " |-- Housing: string (nullable = true)\n",
      " |-- Saving accounts: string (nullable = true)\n",
      " |-- Checking account: string (nullable = true)\n",
      " |-- Credit amount: string (nullable = true)\n",
      " |-- Duration: string (nullable = true)\n",
      " |-- Purpose: string (nullable = true)\n",
      " |-- Risk: string (nullable = true)\n",
      "\n"
     ]
    }
   ],
   "source": [
    "df.printSchema()"
   ]
  },
  {
   "cell_type": "code",
   "execution_count": 6,
   "metadata": {},
   "outputs": [
    {
     "name": "stdout",
     "output_type": "stream",
     "text": [
      "+---+-----+\n",
      "|_c0|count|\n",
      "+---+-----+\n",
      "|296|    1|\n",
      "|467|    1|\n",
      "|675|    1|\n",
      "|691|    1|\n",
      "|829|    1|\n",
      "|125|    1|\n",
      "|451|    1|\n",
      "|800|    1|\n",
      "|853|    1|\n",
      "|944|    1|\n",
      "|666|    1|\n",
      "|870|    1|\n",
      "|919|    1|\n",
      "|926|    1|\n",
      "|  7|    1|\n",
      "| 51|    1|\n",
      "|124|    1|\n",
      "|447|    1|\n",
      "|591|    1|\n",
      "|307|    1|\n",
      "+---+-----+\n",
      "only showing top 20 rows\n",
      "\n",
      "+---+-----+\n",
      "|Age|count|\n",
      "+---+-----+\n",
      "| 51|    8|\n",
      "| 54|   10|\n",
      "| 29|   37|\n",
      "| 42|   22|\n",
      "| 64|    5|\n",
      "| 30|   40|\n",
      "| 34|   32|\n",
      "| 59|    3|\n",
      "| 22|   27|\n",
      "| 28|   43|\n",
      "| 35|   40|\n",
      "| 52|    9|\n",
      "| 47|   17|\n",
      "| 43|   17|\n",
      "| 31|   38|\n",
      "| 70|    1|\n",
      "| 61|    7|\n",
      "| 27|   51|\n",
      "| 75|    2|\n",
      "| 26|   50|\n",
      "+---+-----+\n",
      "only showing top 20 rows\n",
      "\n",
      "+------+-----+\n",
      "|   Sex|count|\n",
      "+------+-----+\n",
      "|female|  310|\n",
      "|  male|  690|\n",
      "+------+-----+\n",
      "\n",
      "+---+-----+\n",
      "|Job|count|\n",
      "+---+-----+\n",
      "|  3|  148|\n",
      "|  0|   22|\n",
      "|  1|  200|\n",
      "|  2|  630|\n",
      "+---+-----+\n",
      "\n",
      "+-------+-----+\n",
      "|Housing|count|\n",
      "+-------+-----+\n",
      "|    own|  713|\n",
      "|   free|  108|\n",
      "|   rent|  179|\n",
      "+-------+-----+\n",
      "\n",
      "+---------------+-----+\n",
      "|Saving accounts|count|\n",
      "+---------------+-----+\n",
      "|           rich|   48|\n",
      "|             NA|  183|\n",
      "|     quite rich|   63|\n",
      "|       moderate|  103|\n",
      "|         little|  603|\n",
      "+---------------+-----+\n",
      "\n",
      "+----------------+-----+\n",
      "|Checking account|count|\n",
      "+----------------+-----+\n",
      "|            rich|   63|\n",
      "|              NA|  394|\n",
      "|        moderate|  269|\n",
      "|          little|  274|\n",
      "+----------------+-----+\n",
      "\n",
      "+-------------+-----+\n",
      "|Credit amount|count|\n",
      "+-------------+-----+\n",
      "|         2069|    1|\n",
      "|         3414|    1|\n",
      "|         2136|    1|\n",
      "|         1512|    1|\n",
      "|         1572|    1|\n",
      "|          691|    1|\n",
      "|         3959|    2|\n",
      "|         3368|    1|\n",
      "|         3650|    1|\n",
      "|         1372|    1|\n",
      "|         3441|    1|\n",
      "|         8386|    1|\n",
      "|          666|    1|\n",
      "|         7418|    1|\n",
      "|         3949|    1|\n",
      "|         1361|    1|\n",
      "|         1808|    1|\n",
      "|        12204|    1|\n",
      "|          926|    1|\n",
      "|         5234|    1|\n",
      "+-------------+-----+\n",
      "only showing top 20 rows\n",
      "\n",
      "+--------+-----+\n",
      "|Duration|count|\n",
      "+--------+-----+\n",
      "|       7|    5|\n",
      "|      15|   64|\n",
      "|      54|    2|\n",
      "|      11|    9|\n",
      "|      42|   11|\n",
      "|      30|   40|\n",
      "|       8|    7|\n",
      "|      22|    2|\n",
      "|      28|    3|\n",
      "|      16|    2|\n",
      "|      47|    1|\n",
      "|       5|    1|\n",
      "|      18|  113|\n",
      "|      27|   13|\n",
      "|      26|    1|\n",
      "|       6|   75|\n",
      "|      60|   13|\n",
      "|      40|    1|\n",
      "|      33|    3|\n",
      "|      48|   48|\n",
      "+--------+-----+\n",
      "only showing top 20 rows\n",
      "\n",
      "+-------------------+-----+\n",
      "|            Purpose|count|\n",
      "+-------------------+-----+\n",
      "|          education|   59|\n",
      "|           radio/TV|  280|\n",
      "|    vacation/others|   12|\n",
      "|domestic appliances|   12|\n",
      "|                car|  337|\n",
      "|           business|   97|\n",
      "|            repairs|   22|\n",
      "|furniture/equipment|  181|\n",
      "+-------------------+-----+\n",
      "\n",
      "+----+-----+\n",
      "|Risk|count|\n",
      "+----+-----+\n",
      "| bad|  300|\n",
      "|good|  700|\n",
      "+----+-----+\n",
      "\n"
     ]
    }
   ],
   "source": [
    "for i in df.columns:\n",
    "    df.groupby(i).count().show()"
   ]
  },
  {
   "cell_type": "markdown",
   "metadata": {},
   "source": [
    ">**Conclusions:**\n",
    "    Columns *_c0*, an index, does not add relevant information so it is dropped. Have to change 'Age', 'Duration', and 'Credit amount' columns data types to numeric. The remaining columns are categorical and will be processed at the feature engineering step."
   ]
  },
  {
   "cell_type": "markdown",
   "metadata": {},
   "source": [
    "### 3. Formating & Data Quality"
   ]
  },
  {
   "cell_type": "markdown",
   "metadata": {},
   "source": [
    "#### Missign values"
   ]
  },
  {
   "cell_type": "code",
   "execution_count": 197,
   "metadata": {},
   "outputs": [],
   "source": [
    "def info_missing_table(df_pd):\n",
    "    \"\"\"Input pandas dataframe and Return columns with missing value and percentage\"\"\"\n",
    "    mis_val = df_pd.isnull().sum() #count total of null in each columns in dataframe\n",
    "#count percentage of null in each columns\n",
    "    mis_val_percent = 100 * df_pd.isnull().sum() / len(df_pd) \n",
    "    mis_val_table = pd.concat([mis_val, mis_val_percent], axis=1) \n",
    " #join to left (as column) between mis_val and mis_val_percent\n",
    "    mis_val_table_ren_columns = mis_val_table.rename(\n",
    "    columns = {0 : 'Missing Values', 1 : '% of Total Values'}) \n",
    "#rename columns in table\n",
    "    mis_val_table_ren_columns = mis_val_table_ren_columns[\n",
    "    mis_val_table_ren_columns.iloc[:,1] != 0].sort_values('% of Total Values', ascending=False).round(1) \n",
    "        \n",
    "    print (\"Your selected dataframe has \" + str(df_pd.shape[1]) + \" columns.\\n\"    #.shape[1] : just view total columns in dataframe  \n",
    "    \"There are \" + str(mis_val_table_ren_columns.shape[0]) +              \n",
    "    \" columns that have missing values.\") #.shape[0] : just view total rows in dataframe"
   ]
  },
  {
   "cell_type": "code",
   "execution_count": 205,
   "metadata": {},
   "outputs": [],
   "source": [
    "df_pd = df.toPandas()"
   ]
  },
  {
   "cell_type": "code",
   "execution_count": 199,
   "metadata": {},
   "outputs": [
    {
     "name": "stdout",
     "output_type": "stream",
     "text": [
      "Your selected dataframe has 11 columns.\n",
      "There are 0 columns that have missing values.\n"
     ]
    }
   ],
   "source": [
    "info_missing_table(df_pd)"
   ]
  },
  {
   "cell_type": "markdown",
   "metadata": {},
   "source": [
    "#### Change Data types"
   ]
  },
  {
   "cell_type": "markdown",
   "metadata": {},
   "source": [
    " 'Age', 'Duration', and 'Credit amount' columns data types to numeric"
   ]
  },
  {
   "cell_type": "code",
   "execution_count": 200,
   "metadata": {},
   "outputs": [],
   "source": [
    "num_cols = ['_c0', 'Age', 'Duration', 'Credit amount']"
   ]
  },
  {
   "cell_type": "code",
   "execution_count": 201,
   "metadata": {},
   "outputs": [],
   "source": [
    "for col in num_cols:\n",
    "    df = df.withColumn(col, df[col].cast('int'))"
   ]
  },
  {
   "cell_type": "code",
   "execution_count": 202,
   "metadata": {},
   "outputs": [
    {
     "name": "stdout",
     "output_type": "stream",
     "text": [
      "root\n",
      " |-- _c0: integer (nullable = true)\n",
      " |-- Age: integer (nullable = true)\n",
      " |-- Duration: integer (nullable = true)\n",
      " |-- Credit amount: integer (nullable = true)\n",
      "\n"
     ]
    }
   ],
   "source": [
    "df[num_cols].printSchema()"
   ]
  },
  {
   "cell_type": "markdown",
   "metadata": {},
   "source": [
    "####  Drop outliers"
   ]
  },
  {
   "cell_type": "code",
   "execution_count": 206,
   "metadata": {},
   "outputs": [
    {
     "data": {
      "image/png": "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\n",
      "text/plain": [
       "<Figure size 432x360 with 1 Axes>"
      ]
     },
     "metadata": {},
     "output_type": "display_data"
    },
    {
     "data": {
      "image/png": "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\n",
      "text/plain": [
       "<Figure size 432x360 with 1 Axes>"
      ]
     },
     "metadata": {},
     "output_type": "display_data"
    },
    {
     "data": {
      "image/png": "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\n",
      "text/plain": [
       "<Figure size 432x360 with 1 Axes>"
      ]
     },
     "metadata": {},
     "output_type": "display_data"
    }
   ],
   "source": [
    "for i in num_cols[1:]:\n",
    "    df_pd[[i]].boxplot(figsize=(6,5))\n",
    "    plt.show()"
   ]
  },
  {
   "cell_type": "code",
   "execution_count": 207,
   "metadata": {},
   "outputs": [
    {
     "name": "stdout",
     "output_type": "stream",
     "text": [
      "_c0               499.50\n",
      "Age                15.00\n",
      "Duration           12.00\n",
      "Credit amount    2606.75\n",
      "dtype: float64\n"
     ]
    }
   ],
   "source": [
    "Q1 = df_pd[num_cols].quantile(0.25)\n",
    "Q3 = df_pd[num_cols].quantile(0.75)\n",
    "IQR = Q3 - Q1\n",
    "print(IQR)"
   ]
  },
  {
   "cell_type": "code",
   "execution_count": 208,
   "metadata": {},
   "outputs": [],
   "source": [
    "df_pd_out = df_pd[num_cols][~((df_pd[num_cols] < (Q1 - 1.5 * IQR)) |(df_pd[num_cols] > (Q3 + 1.5 * IQR))).any(axis=1)]"
   ]
  },
  {
   "cell_type": "code",
   "execution_count": 412,
   "metadata": {},
   "outputs": [
    {
     "name": "stdout",
     "output_type": "stream",
     "text": [
      "initial shape, before removing outliers:  (1000, 3)\n"
     ]
    }
   ],
   "source": [
    "print('initial shape, before removing outliers: ', df_pd[num_cols].shape)"
   ]
  },
  {
   "cell_type": "code",
   "execution_count": 413,
   "metadata": {},
   "outputs": [
    {
     "name": "stdout",
     "output_type": "stream",
     "text": [
      "shape after removing outliers:  (862, 4)\n"
     ]
    }
   ],
   "source": [
    "print('shape after removing outliers: ', df_pd_out.shape)"
   ]
  },
  {
   "cell_type": "code",
   "execution_count": 211,
   "metadata": {},
   "outputs": [],
   "source": [
    "#Filter out outliers \n",
    "keep_cols = tuple(pd.merge(df_pd, df_pd_out, left_index=True, right_index=True, how='inner').index)"
   ]
  },
  {
   "cell_type": "code",
   "execution_count": 212,
   "metadata": {},
   "outputs": [],
   "source": [
    "from pyspark.sql import SQLContext,Row\n",
    "sqlCtx =SQLContext(sc)\n",
    "df.registerTempTable('credit_risk')"
   ]
  },
  {
   "cell_type": "code",
   "execution_count": 213,
   "metadata": {},
   "outputs": [
    {
     "data": {
      "text/plain": [
       "862"
      ]
     },
     "execution_count": 213,
     "metadata": {},
     "output_type": "execute_result"
    }
   ],
   "source": [
    "sqlCtx.sql('SELECT * FROM credit_risk WHERE _c0 IN {0}'.format(keep_cols)).count()"
   ]
  },
  {
   "cell_type": "code",
   "execution_count": 214,
   "metadata": {},
   "outputs": [],
   "source": [
    "df = sqlCtx.sql('SELECT * FROM credit_risk WHERE _c0 IN {0}'.format(keep_cols))"
   ]
  },
  {
   "cell_type": "markdown",
   "metadata": {},
   "source": [
    "####  Drop index column"
   ]
  },
  {
   "cell_type": "code",
   "execution_count": 215,
   "metadata": {},
   "outputs": [],
   "source": [
    "df =df.select(df.columns[1:])"
   ]
  },
  {
   "cell_type": "code",
   "execution_count": 216,
   "metadata": {},
   "outputs": [
    {
     "name": "stdout",
     "output_type": "stream",
     "text": [
      "+---+----+---+-------+---------------+----------------+-------------+--------+-------------------+----+\n",
      "|Age| Sex|Job|Housing|Saving accounts|Checking account|Credit amount|Duration|            Purpose|Risk|\n",
      "+---+----+---+-------+---------------+----------------+-------------+--------+-------------------+----+\n",
      "| 49|male|  1|    own|         little|              NA|         2096|      12|          education|good|\n",
      "| 45|male|  2|   free|         little|          little|         7882|      42|furniture/equipment|good|\n",
      "| 53|male|  2|   free|         little|          little|         4870|      24|                car| bad|\n",
      "+---+----+---+-------+---------------+----------------+-------------+--------+-------------------+----+\n",
      "only showing top 3 rows\n",
      "\n"
     ]
    }
   ],
   "source": [
    "df.show(3)"
   ]
  },
  {
   "cell_type": "markdown",
   "metadata": {},
   "source": [
    "### 4. Feature Engineering"
   ]
  },
  {
   "cell_type": "markdown",
   "metadata": {},
   "source": [
    "####  Encode categorical columns"
   ]
  },
  {
   "cell_type": "code",
   "execution_count": 217,
   "metadata": {},
   "outputs": [],
   "source": [
    "num_cols = [ 'Age', 'Duration', 'Credit amount']"
   ]
  },
  {
   "cell_type": "code",
   "execution_count": 224,
   "metadata": {},
   "outputs": [],
   "source": [
    "df = df.withColumnRenamed('Risk', 'label')"
   ]
  },
  {
   "cell_type": "code",
   "execution_count": 347,
   "metadata": {},
   "outputs": [],
   "source": [
    "cat_cols=[item[0] for item in df.dtypes if item[1].startswith('string')]"
   ]
  },
  {
   "cell_type": "code",
   "execution_count": 226,
   "metadata": {},
   "outputs": [],
   "source": [
    "from pyspark.ml.feature import OneHotEncoder, StringIndexer, VectorAssembler\n",
    "stages = []\n",
    "i=0\n",
    "for categoricalCol in cat_cols:\n",
    "    i+=1\n",
    "    stringIndexer = StringIndexer(inputCol = categoricalCol, outputCol = categoricalCol + 'Index')\n",
    "    encoder = OneHotEncoder(inputCol=stringIndexer.getOutputCol(), outputCol=categoricalCol + \"classVec\")\n",
    "    stages += [stringIndexer, encoder]\n",
    "    \n",
    "assemblerInputs = [c + \"classVec\" for c in cat_cols] + num_cols\n",
    "assembler = VectorAssembler(inputCols=assemblerInputs, outputCol=\"features\")\n",
    "stages += [assembler]"
   ]
  },
  {
   "cell_type": "code",
   "execution_count": 227,
   "metadata": {},
   "outputs": [],
   "source": [
    "from pyspark.ml import Pipeline\n",
    "pipeline = Pipeline(stages = stages)\n",
    "pipelineModel = pipeline.fit(df)"
   ]
  },
  {
   "cell_type": "code",
   "execution_count": 228,
   "metadata": {},
   "outputs": [],
   "source": [
    "new_df = pipelineModel.transform(df)"
   ]
  },
  {
   "cell_type": "code",
   "execution_count": 350,
   "metadata": {},
   "outputs": [
    {
     "data": {
      "text/html": [
       "<div>\n",
       "<style scoped>\n",
       "    .dataframe tbody tr th:only-of-type {\n",
       "        vertical-align: middle;\n",
       "    }\n",
       "\n",
       "    .dataframe tbody tr th {\n",
       "        vertical-align: top;\n",
       "    }\n",
       "\n",
       "    .dataframe thead th {\n",
       "        text-align: right;\n",
       "    }\n",
       "</style>\n",
       "<table border=\"1\" class=\"dataframe\">\n",
       "  <thead>\n",
       "    <tr style=\"text-align: right;\">\n",
       "      <th></th>\n",
       "      <th>Age</th>\n",
       "      <th>Sex</th>\n",
       "      <th>Job</th>\n",
       "      <th>Housing</th>\n",
       "      <th>Saving accounts</th>\n",
       "      <th>Checking account</th>\n",
       "      <th>Credit amount</th>\n",
       "      <th>Duration</th>\n",
       "      <th>Purpose</th>\n",
       "      <th>label</th>\n",
       "      <th>SexIndex</th>\n",
       "      <th>SexclassVec</th>\n",
       "      <th>JobIndex</th>\n",
       "      <th>JobclassVec</th>\n",
       "      <th>HousingIndex</th>\n",
       "      <th>HousingclassVec</th>\n",
       "      <th>Saving accountsIndex</th>\n",
       "      <th>Saving accountsclassVec</th>\n",
       "      <th>Checking accountIndex</th>\n",
       "      <th>Checking accountclassVec</th>\n",
       "      <th>PurposeIndex</th>\n",
       "      <th>PurposeclassVec</th>\n",
       "      <th>labelIndex</th>\n",
       "      <th>labelclassVec</th>\n",
       "      <th>features</th>\n",
       "    </tr>\n",
       "  </thead>\n",
       "  <tbody>\n",
       "    <tr>\n",
       "      <th>0</th>\n",
       "      <td>49</td>\n",
       "      <td>male</td>\n",
       "      <td>1</td>\n",
       "      <td>own</td>\n",
       "      <td>little</td>\n",
       "      <td>NA</td>\n",
       "      <td>2096</td>\n",
       "      <td>12</td>\n",
       "      <td>education</td>\n",
       "      <td>good</td>\n",
       "      <td>0.0</td>\n",
       "      <td>(1.0)</td>\n",
       "      <td>1.0</td>\n",
       "      <td>(0.0, 1.0, 0.0)</td>\n",
       "      <td>0.0</td>\n",
       "      <td>(1.0, 0.0)</td>\n",
       "      <td>0.0</td>\n",
       "      <td>(1.0, 0.0, 0.0, 0.0)</td>\n",
       "      <td>0.0</td>\n",
       "      <td>(1.0, 0.0, 0.0)</td>\n",
       "      <td>4.0</td>\n",
       "      <td>(0.0, 0.0, 0.0, 0.0, 1.0, 0.0, 0.0)</td>\n",
       "      <td>0.0</td>\n",
       "      <td>(1.0)</td>\n",
       "      <td>(1.0, 0.0, 1.0, 0.0, 1.0, 0.0, 1.0, 0.0, 0.0, ...</td>\n",
       "    </tr>\n",
       "    <tr>\n",
       "      <th>1</th>\n",
       "      <td>45</td>\n",
       "      <td>male</td>\n",
       "      <td>2</td>\n",
       "      <td>free</td>\n",
       "      <td>little</td>\n",
       "      <td>little</td>\n",
       "      <td>7882</td>\n",
       "      <td>42</td>\n",
       "      <td>furniture/equipment</td>\n",
       "      <td>good</td>\n",
       "      <td>0.0</td>\n",
       "      <td>(1.0)</td>\n",
       "      <td>0.0</td>\n",
       "      <td>(1.0, 0.0, 0.0)</td>\n",
       "      <td>2.0</td>\n",
       "      <td>(0.0, 0.0)</td>\n",
       "      <td>0.0</td>\n",
       "      <td>(1.0, 0.0, 0.0, 0.0)</td>\n",
       "      <td>1.0</td>\n",
       "      <td>(0.0, 1.0, 0.0)</td>\n",
       "      <td>2.0</td>\n",
       "      <td>(0.0, 0.0, 1.0, 0.0, 0.0, 0.0, 0.0)</td>\n",
       "      <td>0.0</td>\n",
       "      <td>(1.0)</td>\n",
       "      <td>(1.0, 1.0, 0.0, 0.0, 0.0, 0.0, 1.0, 0.0, 0.0, ...</td>\n",
       "    </tr>\n",
       "  </tbody>\n",
       "</table>\n",
       "</div>"
      ],
      "text/plain": [
       "   Age   Sex Job Housing Saving accounts Checking account  Credit amount  \\\n",
       "0   49  male   1     own          little               NA           2096   \n",
       "1   45  male   2    free          little           little           7882   \n",
       "\n",
       "   Duration              Purpose label  SexIndex SexclassVec  JobIndex  \\\n",
       "0        12            education  good       0.0       (1.0)       1.0   \n",
       "1        42  furniture/equipment  good       0.0       (1.0)       0.0   \n",
       "\n",
       "       JobclassVec  HousingIndex HousingclassVec  Saving accountsIndex  \\\n",
       "0  (0.0, 1.0, 0.0)           0.0      (1.0, 0.0)                   0.0   \n",
       "1  (1.0, 0.0, 0.0)           2.0      (0.0, 0.0)                   0.0   \n",
       "\n",
       "  Saving accountsclassVec  Checking accountIndex Checking accountclassVec  \\\n",
       "0    (1.0, 0.0, 0.0, 0.0)                    0.0          (1.0, 0.0, 0.0)   \n",
       "1    (1.0, 0.0, 0.0, 0.0)                    1.0          (0.0, 1.0, 0.0)   \n",
       "\n",
       "   PurposeIndex                      PurposeclassVec  labelIndex  \\\n",
       "0           4.0  (0.0, 0.0, 0.0, 0.0, 1.0, 0.0, 0.0)         0.0   \n",
       "1           2.0  (0.0, 0.0, 1.0, 0.0, 0.0, 0.0, 0.0)         0.0   \n",
       "\n",
       "  labelclassVec                                           features  \n",
       "0         (1.0)  (1.0, 0.0, 1.0, 0.0, 1.0, 0.0, 1.0, 0.0, 0.0, ...  \n",
       "1         (1.0)  (1.0, 1.0, 0.0, 0.0, 0.0, 0.0, 1.0, 0.0, 0.0, ...  "
      ]
     },
     "execution_count": 350,
     "metadata": {},
     "output_type": "execute_result"
    }
   ],
   "source": [
    "pd.DataFrame(new_df.take(5), columns=new_df.columns).head(2)"
   ]
  },
  {
   "cell_type": "markdown",
   "metadata": {},
   "source": [
    "### 5. Model selection"
   ]
  },
  {
   "cell_type": "code",
   "execution_count": 353,
   "metadata": {},
   "outputs": [
    {
     "name": "stdout",
     "output_type": "stream",
     "text": [
      "LR: 0.722748 (0.058484)\n",
      "KNN: 0.694868 (0.062645)\n",
      "CART: 0.686808 (0.067929)\n",
      "NB: 0.709930 (0.048274)\n"
     ]
    },
    {
     "data": {
      "image/png": "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\n",
      "text/plain": [
       "<Figure size 432x288 with 1 Axes>"
      ]
     },
     "metadata": {},
     "output_type": "display_data"
    }
   ],
   "source": [
    "from sklearn import model_selection\n",
    "from sklearn.linear_model import LogisticRegression\n",
    "from sklearn.tree import DecisionTreeClassifier\n",
    "from sklearn.neighbors import KNeighborsClassifier\n",
    "from sklearn.discriminant_analysis import LinearDiscriminantAnalysis\n",
    "from sklearn.naive_bayes import GaussianNB\n",
    "from sklearn.svm import SVC\n",
    "\n",
    "\n",
    "dataframe = new_df.toPandas()\n",
    "X =dataframe.values[:,[10, 12, 14, 16, 18, 20]]\n",
    "#X = dataframe.values[:,[18,20]]\n",
    "Y = dataframe.labelIndex\n",
    "# prepare configuration for cross validation test harness\n",
    "seed = 7\n",
    "# prepare models\n",
    "models = []\n",
    "models.append(('LR', LogisticRegression()))\n",
    "models.append(('KNN', KNeighborsClassifier()))\n",
    "models.append(('CART', DecisionTreeClassifier()))\n",
    "models.append(('NB', GaussianNB()))\n",
    "# evaluate each model in turn\n",
    "results = []\n",
    "names = []\n",
    "scoring = 'accuracy'\n",
    "for name, model in models:\n",
    "    kfold = model_selection.KFold(n_splits=10, random_state=seed)\n",
    "    cv_results = model_selection.cross_val_score(model, X, Y, cv=kfold, scoring=scoring)\n",
    "    results.append(cv_results)\n",
    "    names.append(name)\n",
    "    msg = \"%s: %f (%f)\" % (name, cv_results.mean(), cv_results.std())\n",
    "    print(msg)\n",
    "# boxplot algorithm comparison\n",
    "fig = plt.figure()\n",
    "fig.suptitle('Algorithm Comparison')\n",
    "ax = fig.add_subplot(111)\n",
    "plt.boxplot(results)\n",
    "ax.set_xticklabels(names)\n",
    "plt.show()"
   ]
  },
  {
   "cell_type": "markdown",
   "metadata": {},
   "source": [
    "Logistic regression is the most suitable model"
   ]
  },
  {
   "cell_type": "markdown",
   "metadata": {},
   "source": [
    "### 6. Apply & Test Model"
   ]
  },
  {
   "cell_type": "code",
   "execution_count": 231,
   "metadata": {},
   "outputs": [
    {
     "name": "stdout",
     "output_type": "stream",
     "text": [
      "695\n",
      "167\n"
     ]
    }
   ],
   "source": [
    "# split the data into trainign and testin sets\n",
    "train, test = new_df.randomSplit([0.80, 0.20], seed = 42)\n",
    "print(train.count())\n",
    "print(test.count())"
   ]
  },
  {
   "cell_type": "markdown",
   "metadata": {},
   "source": [
    "#### Logistic Regression"
   ]
  },
  {
   "cell_type": "code",
   "execution_count": null,
   "metadata": {},
   "outputs": [],
   "source": [
    "from pyspark.ml.classification import LogisticRegression\n",
    "LR = LogisticRegression(featuresCol = 'features', labelCol = 'labelIndex', maxIter=15)\n",
    "LR_model = LR.fit(train)"
   ]
  },
  {
   "cell_type": "code",
   "execution_count": 232,
   "metadata": {},
   "outputs": [
    {
     "data": {
      "image/png": "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\n",
      "text/plain": [
       "<Figure size 432x288 with 1 Axes>"
      ]
     },
     "metadata": {},
     "output_type": "display_data"
    },
    {
     "name": "stdout",
     "output_type": "stream",
     "text": [
      "Training set ROC: 0.9999519723360656\n"
     ]
    }
   ],
   "source": [
    "#plotting the ROC Curve\n",
    "trainingSummary = LR_model.summary\n",
    "roc = trainingSummary.roc.toPandas()\n",
    "plt.plot(roc['FPR'],roc['TPR'])\n",
    "plt.ylabel('False Positive Rate')\n",
    "plt.xlabel('True Positive Rate')\n",
    "plt.title('ROC Curve')\n",
    "plt.show()\n",
    "print('Training set ROC: ' + str(trainingSummary.areaUnderROC))"
   ]
  },
  {
   "cell_type": "code",
   "execution_count": 423,
   "metadata": {},
   "outputs": [
    {
     "name": "stdout",
     "output_type": "stream",
     "text": [
      "Test_SET (Area Under ROC): 1.0\n"
     ]
    }
   ],
   "source": [
    "from pyspark.ml.evaluation import BinaryClassificationEvaluator\n",
    "predictions_LR = LR_model.transform(test)\n",
    "evaluator = BinaryClassificationEvaluator(labelCol='labelIndex')\n",
    "print(\"Test_SET (Area Under ROC): \" + str(evaluator.evaluate( predictions_LR,{evaluator.metricName: \"areaUnderROC\"})))"
   ]
  },
  {
   "cell_type": "markdown",
   "metadata": {},
   "source": [
    "#### NB"
   ]
  },
  {
   "cell_type": "code",
   "execution_count": 358,
   "metadata": {},
   "outputs": [],
   "source": [
    "from pyspark.ml.classification import NaiveBayes\n",
    "NB = NaiveBayes(featuresCol = 'features', labelCol = 'labelIndex')\n",
    "NB_model = NB.fit(train)"
   ]
  },
  {
   "cell_type": "code",
   "execution_count": 418,
   "metadata": {},
   "outputs": [],
   "source": [
    "NB_predictions = NB_model.transform(test)"
   ]
  },
  {
   "cell_type": "code",
   "execution_count": 419,
   "metadata": {},
   "outputs": [],
   "source": [
    "ytrue = pd.Series(NB_predictions.select('labelIndex').take(1000))\n",
    "yscore = pd.Series(NB_predictions.select('prediction').take(1000))"
   ]
  },
  {
   "cell_type": "code",
   "execution_count": 420,
   "metadata": {},
   "outputs": [],
   "source": [
    "ytrue = ytrue.apply(lambda x:x[0])\n",
    "yscore =yscore.apply(lambda x:x[0])"
   ]
  },
  {
   "cell_type": "code",
   "execution_count": 421,
   "metadata": {},
   "outputs": [
    {
     "data": {
      "text/plain": [
       "0.7777777777777778"
      ]
     },
     "execution_count": 421,
     "metadata": {},
     "output_type": "execute_result"
    }
   ],
   "source": [
    "roc_auc_score(ytrue, yscore)"
   ]
  },

 ],
 "metadata": {
  "kernelspec": {
   "display_name": "PySpark Python3 - Spark 2.2.0",
   "language": "python",
   "name": "spark2python3"
  },
  "language_info": {
   "codemirror_mode": {
    "name": "ipython",
    "version": 3
   },
   "file_extension": ".py",
   "mimetype": "text/x-python",
   "name": "python",
   "nbconvert_exporter": "python",
   "pygments_lexer": "ipython3",
   "version": "3.5.2"
  }
 },
 "nbformat": 4,
 "nbformat_minor": 2
}
